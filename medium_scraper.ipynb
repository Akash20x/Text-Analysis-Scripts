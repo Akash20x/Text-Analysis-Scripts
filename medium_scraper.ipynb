{
  "nbformat": 4,
  "nbformat_minor": 0,
  "metadata": {
    "colab": {
      "name": "medium scraper",
      "provenance": [],
      "authorship_tag": "ABX9TyOWlYbcHul36fX0wdZV/4Nw",
      "include_colab_link": true
    },
    "kernelspec": {
      "name": "python3",
      "display_name": "Python 3"
    },
    "language_info": {
      "name": "python"
    }
  },
  "cells": [
    {
      "cell_type": "markdown",
      "metadata": {
        "id": "view-in-github",
        "colab_type": "text"
      },
      "source": [
        "<a href=\"https://colab.research.google.com/github/Akash20x/Text-Analysis-Scripts/blob/main/medium_scraper.ipynb\" target=\"_parent\"><img src=\"https://colab.research.google.com/assets/colab-badge.svg\" alt=\"Open In Colab\"/></a>"
      ]
    },
    {
      "cell_type": "code",
      "metadata": {
        "id": "XAb9ikNi-ofr"
      },
      "source": [
        "import requests\n",
        "from bs4 import BeautifulSoup\n",
        "import re\n",
        "import argparse\n",
        "\n",
        "\n",
        "Base_string = \"https://medium.com/tag/\"\n",
        "keyword=\"python\"\n",
        "url=Base_string + keyword\n",
        "res = requests.get(url)\n",
        "soup = BeautifulSoup(res.text, 'html.parser')\n",
        "\n",
        "\n",
        "logo=[]\n",
        "writer=[]\n",
        "publisher=[]\n",
        "title=[]\n",
        "link=[]\n",
        "\n",
        "\n",
        "start = soup.find_all('div',class_='streamItem streamItem--postPreview js-streamItem')\n",
        "for span in start:\n",
        "    start1=span.find_all('img')[0]['src']\n",
        "    logo.append(start1)\n",
        "    start2=span.find_all('div',class_='postMetaInline postMetaInline-authorLockup ui-captionStrong u-flex1 u-noWrapWithEllipsis')\n",
        "    for span2 in start2:\n",
        "    \tstart3=span2.find_all('a')[0].text\n",
        "    \twriter.append(start3)\n",
        "    \tstart4=span2.find_all('a')[1].text\n",
        "    \tpublisher.append(start4)\n",
        "    start5 = span.find_all('h3',class_='graf graf--h3 graf-after--figure graf--title')\n",
        "    for span2 in start5:\n",
        "    \tstart6=span2.text.replace(\"\\xa0\",' ')\n",
        "    \ttitle.append(start6)\n",
        "    start7=span.find_all('a')[3]['href']\n",
        "    link.append(start7)\n",
        "\n",
        "\n",
        "myDict={\"title\":[],\"writer\":[],\"publisher\":[],\"logo\":[],\"link\":[]}\n",
        "myDict['title'].extend(title)\n",
        "myDict['writer'].extend(writer)\n",
        "myDict['publisher'].extend(publisher)\n",
        "myDict['logo'].extend(logo)\n",
        "myDict['link'].extend(link)\n",
        "\n",
        "result = []\n",
        "for i in range(len(myDict)):\n",
        "    temp = {\n",
        "        \"title\": myDict[\"title\"][i],\n",
        "        \"writer\": myDict[\"writer\"][i],\n",
        "        \"publisher\": myDict[\"publisher\"][i],\n",
        "        \"logo\": myDict[\"logo\"][i],\n",
        "        \"link\":myDict[\"link\"][i]\n",
        "    }\n",
        "\n",
        "    result.append(temp)\n"
      ],
      "execution_count": 40,
      "outputs": []
    },
    {
      "cell_type": "code",
      "metadata": {
        "colab": {
          "base_uri": "https://localhost:8080/"
        },
        "id": "MHfOXlCd--P0",
        "outputId": "b1f40ff4-20bc-4f66-c1bf-888f1e37c427"
      },
      "source": [
        "result\n",
        "\n"
      ],
      "execution_count": 41,
      "outputs": [
        {
          "output_type": "execute_result",
          "data": {
            "text/plain": [
              "[{'link': 'https://towardsdatascience.com/two-cool-functions-to-know-in-python-7c36da49f884?source=---------0-----------------------',\n",
              "  'logo': 'https://cdn-images-1.medium.com/fit/c/72/72/1*APp1aFV46LZEH0J0z5v9vw.png',\n",
              "  'publisher': 'Towards Data Science',\n",
              "  'title': 'Two Cool Functions To Know in Python',\n",
              "  'writer': 'Luay Matalka'},\n",
              " {'link': 'https://towardsdatascience.com/how-to-run-30-machine-learning-models-with-2-lines-of-code-d0f94a537e52?source=---------1-----------------------',\n",
              "  'logo': 'https://cdn-images-1.medium.com/fit/c/72/72/1*RvjXQFQDj0ipSsk28X-L8g.jpeg',\n",
              "  'publisher': 'Towards Data Science',\n",
              "  'title': 'How to Run 30 Machine Learning Models with 2 Lines of Code',\n",
              "  'writer': 'Ismael Araujo'},\n",
              " {'link': 'https://towardsdatascience.com/why-decorators-in-python-are-pure-genius-1e812949a81e?source=---------2-----------------------',\n",
              "  'logo': 'https://cdn-images-1.medium.com/fit/c/72/72/2*8TyJoz2oyfux06hOJujerQ.jpeg',\n",
              "  'publisher': 'Towards Data Science',\n",
              "  'title': '4 Ways To Level Up Your Python Code',\n",
              "  'writer': 'Rhea Moutafis'},\n",
              " {'link': 'https://betterprogramming.pub/4-ways-to-level-up-your-python-code-f148a50efeea?source=---------3-----------------------',\n",
              "  'logo': 'https://cdn-images-1.medium.com/fit/c/72/72/2*robc2fPTQxOrGpI1_59E3w.jpeg',\n",
              "  'publisher': 'Better Programming',\n",
              "  'title': 'Multivariate Outlier Detection in Python',\n",
              "  'writer': 'Nik Piepenbreier'},\n",
              " {'link': 'https://towardsdatascience.com/find-the-difference-in-python-68bbd000e513?source=---------4-----------------------',\n",
              "  'logo': 'https://cdn-images-1.medium.com/fit/c/72/72/1*aL2isee1E3zr8mzSXRiASA.png',\n",
              "  'publisher': 'Towards Data Science',\n",
              "  'title': 'The Most In-Demand Skills for Data Scientists in 2021',\n",
              "  'writer': 'Christopher Tao'}]"
            ]
          },
          "metadata": {
            "tags": []
          },
          "execution_count": 41
        }
      ]
    },
    {
      "cell_type": "code",
      "metadata": {
        "id": "8ydXxWww_AFc"
      },
      "source": [
        ""
      ],
      "execution_count": null,
      "outputs": []
    }
  ]
}